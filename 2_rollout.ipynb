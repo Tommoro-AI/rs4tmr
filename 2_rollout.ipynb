{
 "cells": [
  {
   "cell_type": "code",
   "execution_count": 9,
   "metadata": {},
   "outputs": [
    {
     "name": "stdout",
     "output_type": "stream",
     "text": [
      "Initalized env with init_env\n",
      "TmrPickPlaceCan\n",
      "fix_object:False\n",
      "active_rewards: ['r']\n",
      "########################\n",
      "### Observation keys ###\n",
      "Key: robot0_eef_pos, size: 3\n",
      "Key: robot0_eef_quat, size: 4\n",
      "Key: robot0_eef_vel_lin, size: 3\n",
      "Key: robot0_eef_vel_ang, size: 3\n",
      "Key: robot0_gripper_qpos, size: 6\n",
      "Key: robot0_gripper_qvel, size: 6\n",
      "Key: Can_pos, size: 3\n",
      "Key: Can_quat, size: 4\n",
      "Key: Can_to_robot0_eef_pos, size: 3\n",
      "Key: Can_to_robot0_eef_quat, size: 4\n",
      "Key: robot0_proprio-state, size: 25\n",
      "Key: object-state, size: 14\n",
      "Total observation size: 78\n",
      "########################\n",
      "####### Options ########\n",
      "task_id: pickplace\n",
      "active_rewards: r\n",
      "control_mode: OSC_POSITION\n",
      "reward_shaping: False\n",
      "fix_object: False\n",
      "active_image: True\n",
      "wandb_enabled: False\n",
      "########################\n",
      "Using CUDA\n"
     ]
    },
    {
     "name": "stderr",
     "output_type": "stream",
     "text": [
      "/root/anaconda3/envs/rs4tmr/lib/python3.9/site-packages/gymnasium/core.py:311: UserWarning: \u001b[33mWARN: env.image_states to get variables from other wrappers is deprecated and will be removed in v1.0, to get this variable you can do `env.unwrapped.image_states` for environment variables or `env.get_wrapper_attr('image_states')` that will search the reminding wrappers.\u001b[0m\n",
      "  logger.warn(\n"
     ]
    },
    {
     "name": "stdout",
     "output_type": "stream",
     "text": [
      "Episode 1: Total Reward: 0.0\n",
      "Average Reward over 1 episodes: 0.0\n"
     ]
    },
    {
     "data": {
      "text/html": [
       "<table class=\"show_videos\" style=\"border-spacing:0px;\"><tr><td style=\"padding:1px;\"><video controls width=\"256\" height=\"256\" style=\"object-fit:cover;\" loop autoplay muted>\n",
       "      <source src=\"data:video/mp4;base64,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\" type=\"video/mp4\"/>\n",
       "      This browser does not support the video tag.\n",
       "      </video></td></tr></table>"
      ],
      "text/plain": [
       "<IPython.core.display.HTML object>"
      ]
     },
     "metadata": {},
     "output_type": "display_data"
    }
   ],
   "source": [
    "import torch\n",
    "import gymnasium as gym\n",
    "import numpy as np\n",
    "import mediapy as media\n",
    "# 필요한 클래스 및 함수 임포트\n",
    "from cleanrl.cleanrl.ppo_continuous_action import Agent, Args, ppo_make_env\n",
    "import cv2\n",
    "\n",
    "visualize = True\n",
    "frames = []\n",
    "\n",
    "# Argument 설정\n",
    "args = Args()\n",
    "task_id = 'pickplace'\n",
    "seed = 0\n",
    "gamma = 0.99\n",
    "num_episodes = 1\n",
    "\n",
    "# 환경 생성\n",
    "env = gym.vector.SyncVectorEnv(\n",
    "    [ppo_make_env(\n",
    "        task_id=task_id, \n",
    "        reward_shaping=args.reward_shaping,\n",
    "        idx=0, \n",
    "        control_mode=\"osc_position\",\n",
    "        capture_video=False, \n",
    "        run_name=\"eval\", \n",
    "        gamma= args.gamma, \n",
    "        active_rewards=\"r\",\n",
    "        active_image=True, \n",
    "        fix_object=args.fix_object,\n",
    "        wandb_enabled=False,\n",
    "        verbose=True\n",
    "        )\n",
    "    ]\n",
    ")\n",
    "\n",
    "# 디바이스 설정 (cuda가 가능하면 cuda 사용)\n",
    "device = torch.device(\"cuda\" if torch.cuda.is_available() else \"cpu\")\n",
    "if device == torch.device(\"cuda\"):\n",
    "    print(\"Using CUDA\")\n",
    "else :\n",
    "    assert device == torch.device(\"cpu\")\n",
    "\n",
    "# Agent 초기화 및 모델 불러오기\n",
    "agent = Agent(env).to(device)\n",
    "agent.eval()  # 평가 모드로 전환\n",
    "\n",
    "# 평가 수행\n",
    "total_rewards = []\n",
    "for episode in range(num_episodes):\n",
    "    obs, _ = env.reset(seed=args.seed)\n",
    "    obs = torch.Tensor(obs).to(device)\n",
    "    done = False\n",
    "    episode_reward = 0\n",
    "    \n",
    "    image_frame = env.envs[0].image_states['agentview_image']\n",
    "    image_frame = np.array(image_frame[::-1, :, :], dtype=np.uint8)  # 명시적으로 numpy 배열로 변환\n",
    "    frames.append(image_frame)\n",
    "    # convert image_frame cv2 image\n",
    "    #image_frame = cv2.cvtColor(image_frame, cv2.COLOR_RGB2BGR)\n",
    "    \n",
    "    frames.append(image_frame)\n",
    "    \n",
    "    for i in range(90):\n",
    "        obs = torch.Tensor(obs).to(device)\n",
    "        action = env.envs[0].action_space.sample() \n",
    "        action[0] = 0\n",
    "        action[1] = 0\n",
    "        action[2] = 0.1\n",
    "        action[3] = 0.\n",
    "        obs, reward, terminations, truncations, infos = env.step(action)\n",
    "        done = np.logical_or(terminations, truncations).any()\n",
    "        episode_reward += reward[0]  # 첫 번째 환경의 보상 합산\n",
    "        \n",
    "        # 새로운 프레임 가져오기 및 변환\n",
    "        image_frame = env.envs[0].image_states['agentview_image']\n",
    "        image_frame = np.array(image_frame[::-1, :, :], dtype=np.uint8)  # numpy 배열로 변환\n",
    "\n",
    "        #image_frame = cv2.cvtColor(image_frame, cv2.COLOR_RGB2BGR)\n",
    "        # draw text on image_frame episode reward, reward, small text\n",
    "        cv2.putText(image_frame, f\"Episode Reward: {episode_reward:.2f}\", (10, 30), cv2.FONT_HERSHEY_SIMPLEX, 0.5, (255, 255, 255), 2)\n",
    "        cv2.putText(image_frame, f\"Reward: {reward[0]:.2f}\", (10, 60), cv2.FONT_HERSHEY_SIMPLEX, 0.5, (255, 255, 255), 2)\n",
    "        # draw action on image_frame at bottom\n",
    "        cv2.putText(image_frame, f\"Action: {action}\", (10, 190), cv2.FONT_HERSHEY_SIMPLEX, 0.3, (255, 255, 255), 2)\n",
    "        \n",
    "        frames.append(image_frame)\n",
    "        \n",
    "\n",
    "    print(f\"Episode {episode + 1}: Total Reward: {episode_reward}\")\n",
    "    total_rewards.append(episode_reward)\n",
    "\n",
    "    env.close()\n",
    "\n",
    "    # 평균 리턴 출력\n",
    "    avg_reward = np.mean(total_rewards)\n",
    "    print(f\"Average Reward over {num_episodes} episodes: {avg_reward}\")\n",
    "    \n",
    "    media.show_video(frames, fps=30)\n",
    "\n"
   ]
  },
  {
   "cell_type": "code",
   "execution_count": 4,
   "metadata": {},
   "outputs": [
    {
     "name": "stdout",
     "output_type": "stream",
     "text": [
      "(4,)\n",
      "(4,)\n"
     ]
    }
   ],
   "source": [
    "action = env.envs[0].action_space.sample()    \n",
    "print(action.shape)\n",
    "action = np.array([0.1, 0.1, 0.1, 0.1])\n",
    "print(action.shape)"
   ]
  }
 ],
 "metadata": {
  "kernelspec": {
   "display_name": "rs4tmr",
   "language": "python",
   "name": "python3"
  },
  "language_info": {
   "codemirror_mode": {
    "name": "ipython",
    "version": 3
   },
   "file_extension": ".py",
   "mimetype": "text/x-python",
   "name": "python",
   "nbconvert_exporter": "python",
   "pygments_lexer": "ipython3",
   "version": "3.9.19"
  }
 },
 "nbformat": 4,
 "nbformat_minor": 2
}
